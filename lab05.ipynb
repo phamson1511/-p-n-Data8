{
 "cells": [
  {
   "cell_type": "code",
   "execution_count": 1,
   "id": "1bfc5f6d",
   "metadata": {
    "deletable": false,
    "editable": false
   },
   "outputs": [],
   "source": [
    "# Initialize Otter\n",
    "import otter\n",
    "grader = otter.Notebook(\"lab05.ipynb\")"
   ]
  },
  {
   "cell_type": "markdown",
   "id": "04d4afd2",
   "metadata": {},
   "source": [
    "<img src=\"data8logo.png\" alt=\"Data 8 Logo\" style=\"width: 15%; float: right; padding: 1%; margin-right: 2%;\"/>\n",
    "\n",
    "# Lab 5: Simulations\n",
    "\n",
    "Welcome to Lab 5! The data used in this lab will contain salary data and other statistics for basketball players from the 2023-2024 NBA season. This data was collected from the following sports analytic sites: [Basketball Reference](https://www.basketball-reference.com/leagues/NBA_2024_per_game.html) and [Hoops Hype](https://hoopshype.com/salaries/players/2023-2024/).\n",
    "\n",
    "**Recommended Reading**:\n",
    "\n",
    "* [Iteration](https://www.inferentialthinking.com/chapters/09/2/Iteration.html)\n",
    "* [Simulations](https://www.inferentialthinking.com/chapters/09/3/Simulation.html)\n",
    "* [Randomness](https://www.inferentialthinking.com/chapters/09/Randomness.html)\n",
    "* [Python Reference](https://www.data8.org/fa24/reference/)"
   ]
  },
  {
   "attachments": {},
   "cell_type": "markdown",
   "id": "64b91c5a",
   "metadata": {},
   "source": [
    "**Getting help on lab**: Whenever you feel stuck or need some further clarification, find a GSI or tutor, and they'll be happy to help!\n",
    "\n",
    "As a reminder, here are the policies for getting full credit:\n",
    "\n",
    "1. For students enrolled in in-person <span style=\"color: #BC412B\">**Regular Labs**</span>, you will receive 80% lab credit by **attending** lab discussion, 20% lab credit for passing all test cases, and submitting it to Gradescope by **5pm on the Friday the same week it was released**.\n",
    "\n",
    "2. For students enrolled in <span style=\"color: #04888B\">**Self Service**</span>, you will receive full lab credit by **completing** the notebook, passing all test cases, and **submitting** it to Gradescope by **5pm on the Friday the same week it was released**.\n",
    "\n",
    "**Submission**: Once you’re finished, run all cells besides the last one, select File > Save Notebook, and then execute the final cell. The result will contain a zip file that you can use to submit on Gradescope.\n",
    "\n",
    "Let's begin by setting up the tests and imports by running the cell below."
   ]
  },
  {
   "cell_type": "code",
   "execution_count": 3,
   "id": "3d8a549c",
   "metadata": {},
   "outputs": [],
   "source": [
    "# Run this cell, but please don't change it.\n",
    "\n",
    "# These lines import the Numpy and Datascience modules.\n",
    "import numpy as np\n",
    "from datascience import *\n",
    "\n",
    "# These lines do some fancy plotting magic\n",
    "import matplotlib\n",
    "%matplotlib inline\n",
    "import matplotlib.pyplot as plt\n",
    "plt.style.use('fivethirtyeight')"
   ]
  },
  {
   "cell_type": "markdown",
   "id": "dd0beef7",
   "metadata": {},
   "source": [
    "<hr style=\"border: 5px solid #003262;\" />\n",
    "<hr style=\"border: 1px solid #fdb515;\" />\n",
    "\n",
    "## 1. Nachos and Conditionals"
   ]
  },
  {
   "cell_type": "markdown",
   "id": "897f4aa1",
   "metadata": {},
   "source": [
    "In Python, the boolean is a data type with only two possible values:  `True` and `False`. Expressions containing comparison operators such as `<` (less than), `>` (greater than), and `==` (equal to) evaluate to Boolean values. A list of common comparison operators can be found below!\n",
    "\n",
    "| Comparison         | Operator | True Example | False Example |\n",
    "|--------------------|----------|--------------|---------------|\n",
    "| Less than          | `<`      | 2 < 3        | 2 < 2         |\n",
    "| Greater than       | `>`      | 3 > 2        | 3 > 3         |\n",
    "| Less than or equal | `<=`     | 2 <= 2       | 3 <= 2        |\n",
    "| Greater or equal   | `>=`     | 3 >= 3       | 2 >= 3        |\n",
    "| Equal              | `==`     | 3 == 3       | 3 == 2        |\n",
    "| Not equal          | `!=`     | 3 != 2       | 2 != 2        |\n"
   ]
  },
  {
   "cell_type": "markdown",
   "id": "fc11ab8a",
   "metadata": {},
   "source": [
    "Run the cell below to see an example of a comparison operator in action."
   ]
  },
  {
   "cell_type": "code",
   "execution_count": null,
   "id": "44b83cb7",
   "metadata": {},
   "outputs": [],
   "source": [
    "3 > (1 + 1)"
   ]
  },
  {
   "cell_type": "markdown",
   "id": "279f8f65",
   "metadata": {},
   "source": [
    "We can even assign the result of a comparison operation to a variable. Note that `==` and `=` are **not** the same!"
   ]
  },
  {
   "cell_type": "code",
   "execution_count": null,
   "id": "b900dcbc",
   "metadata": {},
   "outputs": [],
   "source": [
    "result = 10 / 2 == 5\n",
    "result"
   ]
  },
  {
   "cell_type": "markdown",
   "id": "8df5d0e4",
   "metadata": {},
   "source": [
    "Just like arithmetic operators can be applied on every item of an array, comparison operators can also be used on arrays to compare an entire array with some value. The output of this comparison is an array of boolean values."
   ]
  },
  {
   "cell_type": "code",
   "execution_count": null,
   "id": "422f0b18",
   "metadata": {},
   "outputs": [],
   "source": [
    "make_array(1, 5, 7, 8, 3, -1) > 3"
   ]
  },
  {
   "cell_type": "markdown",
   "id": "9a2899b2",
   "metadata": {},
   "source": [
    "One day, when you come home after a long week, you see a hot bowl of nachos waiting on the dining table! Let's say that whenever you take a nacho from the bowl, it will either have only **cheese**, only **salsa**, **both** cheese and salsa, or **neither** cheese nor salsa (a sad tortilla chip indeed). \n",
    "\n",
    "Let's try and simulate taking nachos from the bowl at random using the function, `np.random.choice(...)`."
   ]
  },
  {
   "cell_type": "markdown",
   "id": "f2c8a733",
   "metadata": {},
   "source": [
    "### `np.random.choice`\n",
    "\n",
    "`np.random.choice` picks one item at random from the given array. It is equally likely to pick any of the items. Run the cell below several times, and observe how the results change. _Tip:_ To keep running a cell multiple times you can use the keyboard shortcut `ctrl` + `return`. "
   ]
  },
  {
   "cell_type": "code",
   "execution_count": 5,
   "id": "b84dbda6",
   "metadata": {},
   "outputs": [
    {
     "data": {
      "text/plain": [
       "'both'"
      ]
     },
     "execution_count": 5,
     "metadata": {},
     "output_type": "execute_result"
    }
   ],
   "source": [
    "nachos = make_array('cheese', 'salsa', 'both', 'neither')\n",
    "np.random.choice(nachos)"
   ]
  },
  {
   "cell_type": "markdown",
   "id": "e1ac453d",
   "metadata": {},
   "source": [
    "To repeat this process multiple times, pass in an int `n` as the second argument to return `n` different random choices. By default, `np.random.choice` samples **with replacement** and returns an *array* of items. Sampling **with replacement** means that after an element is drawn, it is replaced back to where you are sampling from and can be drawn again in the future. If we sample `n` times with replacement, each time, every element has an equal chance of being selected.\n",
    "\n",
    "Run the next cell to see an example of sampling with replacement 10 times from the `nachos` array."
   ]
  },
  {
   "cell_type": "code",
   "execution_count": 7,
   "id": "f0ee7252",
   "metadata": {},
   "outputs": [
    {
     "data": {
      "text/plain": [
       "array(['cheese', 'both', 'neither', 'cheese', 'salsa', 'cheese', 'cheese',\n",
       "       'both', 'salsa', 'salsa'],\n",
       "      dtype='<U7')"
      ]
     },
     "execution_count": 7,
     "metadata": {},
     "output_type": "execute_result"
    }
   ],
   "source": [
    "np.random.choice(nachos, 10)"
   ]
  },
  {
   "cell_type": "markdown",
   "id": "650ae7c0",
   "metadata": {},
   "source": [
    "To count the number of times a certain type of nacho is randomly chosen, we can use `np.count_nonzero`"
   ]
  },
  {
   "cell_type": "markdown",
   "id": "7009b6ac",
   "metadata": {},
   "source": [
    "### `np.count_nonzero`\n",
    "\n",
    "`np.count_nonzero` counts the number of non-zero values that appear in an array. When an array of boolean values are passed through the function, it will count the number of `True` values (remember that in Python, **`True` is coded as 1 and `False` is coded as 0.**)\n",
    "\n",
    "Run the next cell to see an example that uses `np.count_nonzero`."
   ]
  },
  {
   "cell_type": "code",
   "execution_count": 9,
   "id": "b10eb22d",
   "metadata": {},
   "outputs": [
    {
     "data": {
      "text/plain": [
       "3"
      ]
     },
     "execution_count": 9,
     "metadata": {},
     "output_type": "execute_result"
    }
   ],
   "source": [
    "np.count_nonzero(make_array(True, False, False, True, True))"
   ]
  },
  {
   "cell_type": "markdown",
   "id": "d715528b",
   "metadata": {},
   "source": [
    "---\n",
    "\n",
    "**Question 1.1** Assume we took ten nachos at random, and stored the results in an array called `ten_nachos` as done below. **Find the number of nachos with only cheese using code** (do not manually enter the final answer).  \n",
    "\n",
    "*Hint:* Our solution involves a comparison operator (e.g. `==`, `<`, ...) and the `np.count_nonzero` method.\n"
   ]
  },
  {
   "cell_type": "code",
   "execution_count": 11,
   "id": "b4ee0900",
   "metadata": {
    "tags": []
   },
   "outputs": [
    {
     "data": {
      "text/plain": [
       "3"
      ]
     },
     "execution_count": 11,
     "metadata": {},
     "output_type": "execute_result"
    }
   ],
   "source": [
    "ten_nachos = make_array('neither', 'cheese', 'both', 'both', 'cheese', 'salsa', 'both', 'neither', 'cheese', 'both')\n",
    "number_cheese = np.count_nonzero(ten_nachos == 'cheese')\n",
    "number_cheese"
   ]
  },
  {
   "cell_type": "code",
   "execution_count": 13,
   "id": "fe3eef57",
   "metadata": {
    "deletable": false,
    "editable": false
   },
   "outputs": [
    {
     "data": {
      "text/html": [
       "<p><strong><pre style='display: inline;'>q11</pre></strong> passed! 🚀</p>"
      ],
      "text/plain": [
       "q11 results: All test cases passed!"
      ]
     },
     "execution_count": 13,
     "metadata": {},
     "output_type": "execute_result"
    }
   ],
   "source": [
    "grader.check(\"q11\")"
   ]
  },
  {
   "cell_type": "markdown",
   "id": "61b3ff87",
   "metadata": {},
   "source": [
    "**Conditional Statements**\n",
    "\n",
    "A conditional statement is a multi-line statement that allows Python to choose among different alternatives based on the truth value of an expression.\n",
    "\n",
    "Here is a basic example.\n",
    "\n",
    "```python\n",
    "def sign(x):\n",
    "    if x > 0:\n",
    "        return 'Positive'\n",
    "    else:\n",
    "        return 'Negative'\n",
    "```\n",
    "\n",
    "If the input `x` is greater than `0`, we return the string `'Positive'`. Otherwise, we return `'Negative'`.\n",
    "\n",
    "If we want to test multiple conditions at once, we use the following general format.\n",
    "\n",
    "```python\n",
    "if <if expression>:\n",
    "    <if body>\n",
    "elif <elif expression 0>:\n",
    "    <elif body 0>\n",
    "elif <elif expression 1>:\n",
    "    <elif body 1>\n",
    "...\n",
    "else:\n",
    "    <else body>\n",
    "```\n",
    "\n",
    "Only the body for the first conditional expression that is true will be evaluated. Each `if` and `elif` expression is evaluated and considered in order, starting at the top. `elif` can only be used if an `if` clause precedes it. As soon as a true value is found, the corresponding body is executed, and the rest of the conditional statement is skipped. If none of the `if` or `elif` expressions are true, then the `else body` is executed. \n",
    "\n",
    "For more examples and explanation, refer to the section on conditional statements [here](https://inferentialthinking.com/chapters/09/1/Conditional_Statements.html)."
   ]
  },
  {
   "cell_type": "markdown",
   "id": "6b1acf41",
   "metadata": {},
   "source": [
    "---\n",
    "\n",
    "**Question 1.2** Complete the following conditional statement so that the string `'More please'` is assigned to the variable `say_please` if the number of nachos with cheese in `ten_nachos` is less than `5`. Use the if statement to do this (do not directly reassign the variable `say_please`). \n",
    "\n",
    "*Hint*: You should be using `number_cheese` from Question 1.\n"
   ]
  },
  {
   "cell_type": "code",
   "execution_count": 15,
   "id": "c0dd3620",
   "metadata": {
    "for_assignment_type": "student",
    "tags": []
   },
   "outputs": [
    {
     "data": {
      "text/plain": [
       "'More please'"
      ]
     },
     "execution_count": 15,
     "metadata": {},
     "output_type": "execute_result"
    }
   ],
   "source": [
    "say_please = '?'\n",
    "\n",
    "if number_cheese < 5:\n",
    "    say_please = 'More please'\n",
    "say_please"
   ]
  },
  {
   "cell_type": "code",
   "execution_count": 17,
   "id": "5cb8fe15",
   "metadata": {
    "deletable": false,
    "editable": false
   },
   "outputs": [
    {
     "data": {
      "text/html": [
       "<p><strong><pre style='display: inline;'>q12</pre></strong> passed! ✨</p>"
      ],
      "text/plain": [
       "q12 results: All test cases passed!"
      ]
     },
     "execution_count": 17,
     "metadata": {},
     "output_type": "execute_result"
    }
   ],
   "source": [
    "grader.check(\"q12\")"
   ]
  },
  {
   "cell_type": "markdown",
   "id": "9cae8c0a",
   "metadata": {},
   "source": [
    "---\n",
    "\n",
    "**Question 1.3** Write a function called `nacho_reaction` that returns a reaction (as a string) based on the type of nacho passed in as an argument. Use the table below to match the nacho type to the appropriate reaction.\n",
    "\n",
    "|Nacho Type|Reaction|\n",
    "|---|---|\n",
    "|cheese|Cheesy!|\n",
    "|salsa|Spicy!|\n",
    "|both|Wow!|\n",
    "|neither|Meh.|\n",
    "\n",
    "*Hint:* If you're failing the test, double check the spelling of your reactions.\n"
   ]
  },
  {
   "cell_type": "code",
   "execution_count": 20,
   "id": "85d6bbc9",
   "metadata": {
    "for_assignment_type": "student",
    "tags": []
   },
   "outputs": [
    {
     "data": {
      "text/plain": [
       "'Spicy!'"
      ]
     },
     "execution_count": 20,
     "metadata": {},
     "output_type": "execute_result"
    }
   ],
   "source": [
    "def nacho_reaction(nacho):\n",
    "    if nacho == \"cheese\":\n",
    "        return 'Cheesy!'\n",
    "    elif nacho == 'salsa':\n",
    "        return 'Spicy!'\n",
    "    elif nacho == 'both':\n",
    "        return 'Wow!'\n",
    "    else :\n",
    "        return 'Meh.'\n",
    "\n",
    "spicy_nacho = nacho_reaction('salsa')\n",
    "spicy_nacho"
   ]
  },
  {
   "cell_type": "code",
   "execution_count": 22,
   "id": "eacc6c88",
   "metadata": {
    "deletable": false,
    "editable": false
   },
   "outputs": [
    {
     "data": {
      "text/html": [
       "<p><strong><pre style='display: inline;'>q13</pre></strong> passed! 🍀</p>"
      ],
      "text/plain": [
       "q13 results: All test cases passed!"
      ]
     },
     "execution_count": 22,
     "metadata": {},
     "output_type": "execute_result"
    }
   ],
   "source": [
    "grader.check(\"q13\")"
   ]
  },
  {
   "cell_type": "markdown",
   "id": "8433eede",
   "metadata": {},
   "source": [
    "---\n",
    "\n",
    "**Question 1.4** Create a table `ten_nachos_reactions` that consists of the nachos in `ten_nachos` as well as the reactions for each of those nachos. The columns should be called `Nachos` and `Reactions`.\n",
    "\n",
    "*Hint:* Consider using the `apply` method, which returns an array.\n"
   ]
  },
  {
   "cell_type": "code",
   "execution_count": 30,
   "id": "db64a29b",
   "metadata": {
    "for_assignment_type": "student",
    "tags": []
   },
   "outputs": [
    {
     "data": {
      "text/html": [
       "<table border=\"1\" class=\"dataframe\">\n",
       "    <thead>\n",
       "        <tr>\n",
       "            <th>Nachos</th> <th>Reactions</th>\n",
       "        </tr>\n",
       "    </thead>\n",
       "    <tbody>\n",
       "        <tr>\n",
       "            <td>neither</td> <td>Meh.     </td>\n",
       "        </tr>\n",
       "        <tr>\n",
       "            <td>cheese </td> <td>Cheesy!  </td>\n",
       "        </tr>\n",
       "        <tr>\n",
       "            <td>both   </td> <td>Wow!     </td>\n",
       "        </tr>\n",
       "        <tr>\n",
       "            <td>both   </td> <td>Wow!     </td>\n",
       "        </tr>\n",
       "        <tr>\n",
       "            <td>cheese </td> <td>Cheesy!  </td>\n",
       "        </tr>\n",
       "        <tr>\n",
       "            <td>salsa  </td> <td>Spicy!   </td>\n",
       "        </tr>\n",
       "        <tr>\n",
       "            <td>both   </td> <td>Wow!     </td>\n",
       "        </tr>\n",
       "        <tr>\n",
       "            <td>neither</td> <td>Meh.     </td>\n",
       "        </tr>\n",
       "        <tr>\n",
       "            <td>cheese </td> <td>Cheesy!  </td>\n",
       "        </tr>\n",
       "        <tr>\n",
       "            <td>both   </td> <td>Wow!     </td>\n",
       "        </tr>\n",
       "    </tbody>\n",
       "</table>"
      ],
      "text/plain": [
       "Nachos  | Reactions\n",
       "neither | Meh.\n",
       "cheese  | Cheesy!\n",
       "both    | Wow!\n",
       "both    | Wow!\n",
       "cheese  | Cheesy!\n",
       "salsa   | Spicy!\n",
       "both    | Wow!\n",
       "neither | Meh.\n",
       "cheese  | Cheesy!\n",
       "both    | Wow!"
      ]
     },
     "execution_count": 30,
     "metadata": {},
     "output_type": "execute_result"
    }
   ],
   "source": [
    "ten_nachos_tbl = Table().with_column('Nachos', ten_nachos)\n",
    "ten_nachos_reactions = ten_nachos_tbl.with_columns('Reactions', ten_nachos_tbl.apply(nacho_reaction, 'Nachos'))\n",
    "ten_nachos_reactions"
   ]
  },
  {
   "cell_type": "code",
   "execution_count": 32,
   "id": "9d2a81bd",
   "metadata": {
    "deletable": false,
    "editable": false
   },
   "outputs": [
    {
     "data": {
      "text/html": [
       "<p><strong><pre style='display: inline;'>q14</pre></strong> passed! 🙌</p>"
      ],
      "text/plain": [
       "q14 results: All test cases passed!"
      ]
     },
     "execution_count": 32,
     "metadata": {},
     "output_type": "execute_result"
    }
   ],
   "source": [
    "grader.check(\"q14\")"
   ]
  },
  {
   "cell_type": "markdown",
   "id": "6a1a4d7d",
   "metadata": {},
   "source": [
    "---\n",
    "\n",
    "**Question 1.5** Using code, find the number of 'Wow!' reactions for the nachos in `ten_nachos_reactions`."
   ]
  },
  {
   "cell_type": "code",
   "execution_count": 34,
   "id": "15aa2c1f",
   "metadata": {
    "tags": []
   },
   "outputs": [
    {
     "data": {
      "text/plain": [
       "4"
      ]
     },
     "execution_count": 34,
     "metadata": {},
     "output_type": "execute_result"
    }
   ],
   "source": [
    "number_wow_reactions = np.count_nonzero(ten_nachos_reactions.column('Reactions') == 'Wow!')\n",
    "number_wow_reactions"
   ]
  },
  {
   "cell_type": "code",
   "execution_count": 36,
   "id": "c318dea3",
   "metadata": {
    "deletable": false,
    "editable": false
   },
   "outputs": [
    {
     "data": {
      "text/html": [
       "<p><strong><pre style='display: inline;'>q15</pre></strong> passed! 🌟</p>"
      ],
      "text/plain": [
       "q15 results: All test cases passed!"
      ]
     },
     "execution_count": 36,
     "metadata": {},
     "output_type": "execute_result"
    }
   ],
   "source": [
    "grader.check(\"q15\")"
   ]
  },
  {
   "cell_type": "markdown",
   "id": "66f01d75",
   "metadata": {},
   "source": [
    "<hr style=\"border: 5px solid #003262;\" />\n",
    "<hr style=\"border: 1px solid #fdb515;\" />\n",
    "\n",
    "## 2. Simulations and For Loops\n",
    "Using a `for` statement, we can perform a task multiple times. This is known as iteration. The general structure of a for loop is:\n",
    "\n",
    "`for <placeholder> in <array>:` followed by indented lines of code that are repeated for each element of the `array` being iterated over. You can read more about for loops [here](https://www.inferentialthinking.com/chapters/09/2/Iteration.html). \n",
    "\n",
    "**NOTE:** We often use `i` as the `placeholder` in our class examples, but you could name it anything! Some examples can be found below."
   ]
  },
  {
   "cell_type": "markdown",
   "id": "985cc4d7",
   "metadata": {},
   "source": [
    "One use of iteration is to loop through a set of values. For instance, we can print out all of the colors of the rainbow."
   ]
  },
  {
   "cell_type": "code",
   "execution_count": 38,
   "id": "da5e67cd",
   "metadata": {},
   "outputs": [
    {
     "name": "stdout",
     "output_type": "stream",
     "text": [
      "red\n",
      "orange\n",
      "yellow\n",
      "green\n",
      "blue\n",
      "indigo\n",
      "violet\n"
     ]
    }
   ],
   "source": [
    "rainbow = make_array(\"red\", \"orange\", \"yellow\", \"green\", \"blue\", \"indigo\", \"violet\")\n",
    "\n",
    "for color in rainbow:\n",
    "    print(color)"
   ]
  },
  {
   "cell_type": "markdown",
   "id": "a12d4dd4",
   "metadata": {},
   "source": [
    "We can see that the indented part of the `for` loop, known as the body, is executed once for each item in `rainbow`. The name `color` is assigned to the next value in `rainbow` at the start of each iteration. Note that the name `color` is arbitrary; we could easily have named it something else. Whichever name we pick, we need to use it consistently throughout the `for` loop. "
   ]
  },
  {
   "cell_type": "code",
   "execution_count": 40,
   "id": "d8483c28",
   "metadata": {},
   "outputs": [
    {
     "name": "stdout",
     "output_type": "stream",
     "text": [
      "red\n",
      "orange\n",
      "yellow\n",
      "green\n",
      "blue\n",
      "indigo\n",
      "violet\n"
     ]
    }
   ],
   "source": [
    "for another_name in rainbow:\n",
    "    print(another_name)"
   ]
  },
  {
   "cell_type": "markdown",
   "id": "a57507be",
   "metadata": {},
   "source": [
    "In general, however, we would like the variable name to be somewhat informative. "
   ]
  },
  {
   "cell_type": "markdown",
   "id": "259eddbf",
   "metadata": {},
   "source": [
    "---\n",
    "\n",
    "**Question 2.1** In the following cell, we've loaded the text of _Pride and Prejudice_ by Jane Austen, split it into individual words, and stored these words in an array `p_and_p_words`. Using a `for` loop, assign `longer_than_five` to the number of words in the novel that are more than 5 letters long.\n",
    "\n",
    "*Hint*: You can find the number of letters in a word with the `len` function.\n",
    "\n",
    "*Hint*: How can you use `longer_than_five` to keep track of the number of words that are more than five letters long?\n"
   ]
  },
  {
   "cell_type": "code",
   "execution_count": 47,
   "id": "69488cc1",
   "metadata": {
    "for_assignment_type": "student",
    "tags": []
   },
   "outputs": [
    {
     "data": {
      "text/plain": [
       "35453"
      ]
     },
     "execution_count": 47,
     "metadata": {},
     "output_type": "execute_result"
    }
   ],
   "source": [
    "austen_string = open('Austen_PrideAndPrejudice.txt', encoding='utf-8').read()\n",
    "p_and_p_words = np.array(austen_string.split())\n",
    "\n",
    "longer_than_five = 0\n",
    "\n",
    "for word in p_and_p_words:\n",
    "    if len(word) > 5:\n",
    "        longer_than_five += 1\n",
    "longer_than_five"
   ]
  },
  {
   "cell_type": "code",
   "execution_count": 49,
   "id": "605c4c66",
   "metadata": {
    "deletable": false,
    "editable": false
   },
   "outputs": [
    {
     "data": {
      "text/html": [
       "<p><strong><pre style='display: inline;'>q21</pre></strong> passed! 🎉</p>"
      ],
      "text/plain": [
       "q21 results: All test cases passed!"
      ]
     },
     "execution_count": 49,
     "metadata": {},
     "output_type": "execute_result"
    }
   ],
   "source": [
    "grader.check(\"q21\")"
   ]
  },
  {
   "cell_type": "markdown",
   "id": "6b708528",
   "metadata": {},
   "source": [
    "Another way we can use `for` loops is to repeat lines of code many times. Recall the structure of a `for` loop: \n",
    "\n",
    "`for <placeholder> in <array>:` followed by indented lines of code that are repeated for each element of the array being iterated over. \n",
    "\n",
    "Sometimes, we don't care about what the value of the placeholder is. We instead take advantage of the fact that the `for` loop will repeat as many times as the length of our array. In the following cell, we iterate through an array of length 5 and print out \"Hello, world!\" in each iteration, but we don't need to use the placeholder `i` in the body of our `for` loop. "
   ]
  },
  {
   "cell_type": "code",
   "execution_count": 51,
   "id": "2d96a29f",
   "metadata": {},
   "outputs": [
    {
     "name": "stdout",
     "output_type": "stream",
     "text": [
      "Hello, world!\n",
      "Hello, world!\n",
      "Hello, world!\n",
      "Hello, world!\n",
      "Hello, world!\n"
     ]
    }
   ],
   "source": [
    "for i in np.arange(5):\n",
    "    print(\"Hello, world!\")"
   ]
  },
  {
   "cell_type": "markdown",
   "id": "c70939a7",
   "metadata": {},
   "source": [
    "---\n",
    "\n",
    "**Question 2.2** Using a simulation with 10,000 trials, assign `num_different` to the **number** of times, in 10,000 trials, that two words picked uniformly at random (with replacement) from Pride and Prejudice have different lengths. \n",
    "\n",
    "*Hint 1*: What function did we use in section 1 to sample at random with replacement from an array? \n",
    "\n",
    "*Hint 2*: Remember that `!=` checks for non-equality between two items.\n"
   ]
  },
  {
   "cell_type": "code",
   "execution_count": 85,
   "id": "9c267d03",
   "metadata": {
    "for_assignment_type": "student",
    "tags": []
   },
   "outputs": [
    {
     "data": {
      "text/plain": [
       "8634"
      ]
     },
     "execution_count": 85,
     "metadata": {},
     "output_type": "execute_result"
    }
   ],
   "source": [
    "trials = 10000\n",
    "num_different = 0\n",
    "\n",
    "for i in range(trials):\n",
    "    if len(np.random.choice(p_and_p_words)) != len(np.random.choice(p_and_p_words)):\n",
    "        num_different += 1\n",
    "num_different"
   ]
  },
  {
   "cell_type": "code",
   "execution_count": 87,
   "id": "432eb4e5",
   "metadata": {
    "deletable": false,
    "editable": false
   },
   "outputs": [
    {
     "data": {
      "text/html": [
       "<p><strong><pre style='display: inline;'>q22</pre></strong> passed! 🍀</p>"
      ],
      "text/plain": [
       "q22 results: All test cases passed!"
      ]
     },
     "execution_count": 87,
     "metadata": {},
     "output_type": "execute_result"
    }
   ],
   "source": [
    "grader.check(\"q22\")"
   ]
  },
  {
   "cell_type": "markdown",
   "id": "705a75db",
   "metadata": {},
   "source": [
    "<hr style=\"border: 5px solid #003262;\" />\n",
    "<hr style=\"border: 1px solid #fdb515;\" />\n",
    "\n",
    "## 3. Sampling Basketball Data\n",
    "\n",
    "We will now introduce the topic of sampling, which we’ll be discussing in more depth in this week’s lectures. We’ll guide you through this code, but if you wish to read more about different kinds of samples before attempting this question, you can check out [section 10 of the textbook](https://www.inferentialthinking.com/chapters/10/Sampling_and_Empirical_Distributions.html).\n",
    "\n",
    "Run the cell below to load `full_data` which contains nba player and salary data that we will use for our sampling."
   ]
  },
  {
   "cell_type": "code",
   "execution_count": 89,
   "id": "ddc484ce",
   "metadata": {},
   "outputs": [
    {
     "data": {
      "text/html": [
       "<table border=\"1\" class=\"dataframe\">\n",
       "    <thead>\n",
       "        <tr>\n",
       "            <th>Player</th> <th>Salary Rank</th> <th>Salary</th> <th>Player Rank</th> <th>Age</th> <th>Team</th> <th>Position</th> <th>Games</th> <th>Rebounds</th> <th>Assists</th> <th>Steals</th> <th>Blocks</th> <th>Turnovers</th> <th>Points</th>\n",
       "        </tr>\n",
       "    </thead>\n",
       "    <tbody>\n",
       "        <tr>\n",
       "            <td>Stephen Curry        </td> <td>1          </td> <td>51915615</td> <td>11         </td> <td>35  </td> <td>GSW </td> <td>PG      </td> <td>74   </td> <td>4.5     </td> <td>5.1    </td> <td>0.7   </td> <td>0.4   </td> <td>2.8      </td> <td>26.4  </td>\n",
       "        </tr>\n",
       "        <tr>\n",
       "            <td>Kevin Durant         </td> <td>2          </td> <td>47649433</td> <td>7          </td> <td>35  </td> <td>PHO </td> <td>PF      </td> <td>75   </td> <td>6.6     </td> <td>5      </td> <td>0.9   </td> <td>1.2   </td> <td>3.3      </td> <td>27.1  </td>\n",
       "        </tr>\n",
       "        <tr>\n",
       "            <td>Joel Embiid          </td> <td>3          </td> <td>47607350</td> <td>1          </td> <td>29  </td> <td>PHI </td> <td>C       </td> <td>39   </td> <td>11      </td> <td>5.6    </td> <td>1.2   </td> <td>1.7   </td> <td>3.8      </td> <td>34.7  </td>\n",
       "        </tr>\n",
       "        <tr>\n",
       "            <td>LeBron James         </td> <td>3          </td> <td>47607350</td> <td>15         </td> <td>39  </td> <td>LAL </td> <td>PF      </td> <td>71   </td> <td>7.3     </td> <td>8.3    </td> <td>1.3   </td> <td>0.5   </td> <td>3.5      </td> <td>25.7  </td>\n",
       "        </tr>\n",
       "        <tr>\n",
       "            <td>Bradley Beal         </td> <td>6          </td> <td>46741590</td> <td>63         </td> <td>30  </td> <td>PHO </td> <td>SG      </td> <td>53   </td> <td>4.4     </td> <td>5      </td> <td>1     </td> <td>0.5   </td> <td>2.5      </td> <td>18.2  </td>\n",
       "        </tr>\n",
       "        <tr>\n",
       "            <td>Damian Lillard       </td> <td>7          </td> <td>45640084</td> <td>20         </td> <td>33  </td> <td>MIL </td> <td>PG      </td> <td>73   </td> <td>4.4     </td> <td>7      </td> <td>1     </td> <td>0.2   </td> <td>2.6      </td> <td>24.3  </td>\n",
       "        </tr>\n",
       "        <tr>\n",
       "            <td>Giannis Antetokounmpo</td> <td>7          </td> <td>45640084</td> <td>3          </td> <td>29  </td> <td>MIL </td> <td>PF      </td> <td>73   </td> <td>11.5    </td> <td>6.5    </td> <td>1.2   </td> <td>1.1   </td> <td>3.4      </td> <td>30.4  </td>\n",
       "        </tr>\n",
       "        <tr>\n",
       "            <td>Kawhi Leonard        </td> <td>7          </td> <td>45640084</td> <td>25         </td> <td>32  </td> <td>LAC </td> <td>SF      </td> <td>68   </td> <td>6.1     </td> <td>3.6    </td> <td>1.6   </td> <td>0.9   </td> <td>1.8      </td> <td>23.7  </td>\n",
       "        </tr>\n",
       "        <tr>\n",
       "            <td>Paul George          </td> <td>7          </td> <td>45640084</td> <td>31         </td> <td>33  </td> <td>LAC </td> <td>PF      </td> <td>74   </td> <td>5.2     </td> <td>3.5    </td> <td>1.5   </td> <td>0.5   </td> <td>2.1      </td> <td>22.6  </td>\n",
       "        </tr>\n",
       "        <tr>\n",
       "            <td>Jimmy Butler         </td> <td>11         </td> <td>45183960</td> <td>44         </td> <td>34  </td> <td>MIA </td> <td>PF      </td> <td>60   </td> <td>5.3     </td> <td>5      </td> <td>1.3   </td> <td>0.3   </td> <td>1.7      </td> <td>20.8  </td>\n",
       "        </tr>\n",
       "    </tbody>\n",
       "</table>\n",
       "<p>... (515 rows omitted)</p>"
      ],
      "text/plain": [
       "<IPython.core.display.HTML object>"
      ]
     },
     "metadata": {},
     "output_type": "display_data"
    }
   ],
   "source": [
    "full_data = Table.read_table(\"nba.csv\")\n",
    "\n",
    "# The show method immediately displays the contents of a table.\n",
    "# Think of it like the `print()` function\n",
    "full_data.show(10)"
   ]
  },
  {
   "cell_type": "markdown",
   "id": "355d4e72",
   "metadata": {},
   "source": [
    "Imagine that we had gotten data on only a smaller subset of the players. For 525 players, it's not so unreasonable to expect to see all the data, but usually we aren't so lucky. \n",
    "\n",
    "If we want to make estimates about a certain numerical property of the population, we may have to come up with these estimates based only on a smaller sample. The numerical property of the population is known as a **parameter**, and the estimate is known as a **statistic** (e.g. the mean or median). Whether these estimates are useful or not often depends on how the sample was gathered. We have prepared some example sample datasets to see how they compare to the full NBA dataset. Later we'll ask you to create your own samples to see how they behave."
   ]
  },
  {
   "cell_type": "markdown",
   "id": "fb939276",
   "metadata": {},
   "source": [
    "To save typing and increase the clarity of your code, we will package the analysis code into a few functions. This will be useful in the rest of the lab as we will repeatedly need to create histograms and collect summary statistics from that data."
   ]
  },
  {
   "cell_type": "markdown",
   "id": "2668ddf8",
   "metadata": {},
   "source": [
    "We've defined the `histograms` function below, which takes a table with columns `Age` and `Salary` and draws a histogram for each one. It uses bin widths of 1 year for `Age` and $1,000,000 for `Salary`."
   ]
  },
  {
   "cell_type": "code",
   "execution_count": 91,
   "id": "e7a12e7d",
   "metadata": {
    "scrolled": true
   },
   "outputs": [
    {
     "name": "stdout",
     "output_type": "stream",
     "text": [
      "Two histograms should be displayed below\n"
     ]
    },
    {
     "data": {
      "image/png": "[encoded data removed]",
      "text/plain": [
       "<Figure size 600x400 with 1 Axes>"
      ]
     },
     "metadata": {},
     "output_type": "display_data"
    },
    {
     "data": {
      "image/png": "[encoded data removed]",
      "text/plain": [
       "<Figure size 600x400 with 1 Axes>"
      ]
     },
     "metadata": {},
     "output_type": "display_data"
    }
   ],
   "source": [
    "def histograms(t):\n",
    "    ages = t.column('Age')\n",
    "    salaries = t.column('Salary')/1000000\n",
    "    t1 = t.drop('Salary').with_column('Salary', salaries)\n",
    "    age_bins = np.arange(min(ages), max(ages) + 2, 1) \n",
    "    salary_bins = np.arange(min(salaries), max(salaries) + 1, 1)\n",
    "    t1.hist('Age', bins=age_bins, unit='year')\n",
    "    plt.title('Age distribution')\n",
    "    t1.hist('Salary', bins=salary_bins, unit='million dollars')\n",
    "    plt.title('Salary distribution') \n",
    "    \n",
    "histograms(full_data)\n",
    "print('Two histograms should be displayed below')\n",
    "plt.show()"
   ]
  },
  {
   "cell_type": "markdown",
   "id": "8d735070",
   "metadata": {},
   "source": [
    "---\n",
    "\n",
    "**Question 3.1**. Create a function called `compute_statistics` that takes a table containing an \"Age\" column and a \"Salary\" column and:\n",
    "- Draws a histogram of ages\n",
    "- Draws a histogram of salaries\n",
    "- Returns a two-element array containing the average age and average salary (in that order)\n",
    "\n",
    "You can call the `histograms` function to draw the histograms!\n"
   ]
  },
  {
   "cell_type": "code",
   "execution_count": 101,
   "id": "b5ae298c",
   "metadata": {
    "tags": []
   },
   "outputs": [
    {
     "data": {
      "image/png": "[encoded data removed]",
      "text/plain": [
       "<Figure size 600x400 with 1 Axes>"
      ]
     },
     "metadata": {},
     "output_type": "display_data"
    },
    {
     "data": {
      "image/png": "[encoded data removed]",
      "text/plain": [
       "<Figure size 600x400 with 1 Axes>"
      ]
     },
     "metadata": {},
     "output_type": "display_data"
    },
    {
     "data": {
      "text/plain": [
       "array([  2.57371429e+01,   8.45035460e+06])"
      ]
     },
     "execution_count": 101,
     "metadata": {},
     "output_type": "execute_result"
    }
   ],
   "source": [
    "def compute_statistics(age_and_salary_data):\n",
    "    age = age_and_salary_data.column('Age')\n",
    "    salary = age_and_salary_data.column('Salary')\n",
    "    age_and_salary_tbl = Table().with_columns('Age', age, 'Salary', salary)\n",
    "    histograms(age_and_salary_tbl)\n",
    "    return make_array(np.mean(age_and_salary_tbl.column(0)), np.mean(age_and_salary_tbl.column(1)))\n",
    "    \n",
    "full_stats = compute_statistics(full_data)\n",
    "plt.show()\n",
    "full_stats"
   ]
  },
  {
   "cell_type": "code",
   "execution_count": 103,
   "id": "cf99cfa5",
   "metadata": {
    "deletable": false,
    "editable": false
   },
   "outputs": [
    {
     "data": {
      "text/html": [
       "<p><strong><pre style='display: inline;'>q31</pre></strong> passed! 🚀</p>"
      ],
      "text/plain": [
       "q31 results: All test cases passed!"
      ]
     },
     "execution_count": 103,
     "metadata": {},
     "output_type": "execute_result"
    }
   ],
   "source": [
    "grader.check(\"q31\")"
   ]
  },
  {
   "cell_type": "markdown",
   "id": "dafe0d9b",
   "metadata": {},
   "source": [
    "### Simple random sampling\n",
    "A more justifiable approach is to sample uniformly at random from the players.  In a **simple random sample (SRS) without replacement**, we ensure that each player is selected at most once. Imagine writing down each player's name on a card, putting the cards in an box, and shuffling the box.  Then, pull out cards one by one and set them aside, stopping when the specified sample size is reached."
   ]
  },
  {
   "cell_type": "markdown",
   "id": "d718800d",
   "metadata": {},
   "source": [
    "### Producing simple random samples\n",
    "Sometimes, it’s useful to take random samples even when we have the data for the whole population. It helps us understand sampling accuracy.\n",
    "\n",
    "### `sample`\n",
    "\n",
    "The table method `sample` produces a random sample from the table. By default, it draws at random **with replacement** from the rows of a table. Sampling with replacement means for any row selected randomly, there is a chance it can be selected again if we sample multiple times. `Sample` takes in the sample size as its argument and returns a **table** with only the rows that were selected. This differs from `np.random.choice`, which takes an array and outputs a random value from the array.\n",
    "\n",
    "Run the cell below to see an example call to `sample()` with a sample size of 5, with replacement."
   ]
  },
  {
   "cell_type": "code",
   "execution_count": 105,
   "id": "6fbfe27e",
   "metadata": {},
   "outputs": [
    {
     "data": {
      "text/html": [
       "<table border=\"1\" class=\"dataframe\">\n",
       "    <thead>\n",
       "        <tr>\n",
       "            <th>Player</th> <th>Salary Rank</th> <th>Salary</th> <th>Player Rank</th> <th>Age</th> <th>Team</th> <th>Position</th> <th>Games</th> <th>Rebounds</th> <th>Assists</th> <th>Steals</th> <th>Blocks</th> <th>Turnovers</th> <th>Points</th>\n",
       "        </tr>\n",
       "    </thead>\n",
       "    <tbody>\n",
       "        <tr>\n",
       "            <td>Tosan Evbuomwan</td> <td>554        </td> <td>295977  </td> <td>301        </td> <td>22  </td> <td>DET </td> <td>SF      </td> <td>13   </td> <td>3.5     </td> <td>0.8    </td> <td>0.5   </td> <td>0.3   </td> <td>0.6      </td> <td>7     </td>\n",
       "        </tr>\n",
       "        <tr>\n",
       "            <td>De'Andre Hunter</td> <td>74         </td> <td>20089286</td> <td>88         </td> <td>26  </td> <td>ATL </td> <td>SF      </td> <td>57   </td> <td>3.9     </td> <td>1.5    </td> <td>0.7   </td> <td>0.3   </td> <td>1.5      </td> <td>15.6  </td>\n",
       "        </tr>\n",
       "        <tr>\n",
       "            <td>Jalen Williams </td> <td>256        </td> <td>4558680 </td> <td>61         </td> <td>22  </td> <td>OKC </td> <td>PF      </td> <td>71   </td> <td>4       </td> <td>4.5    </td> <td>1.1   </td> <td>0.6   </td> <td>1.7      </td> <td>19.1  </td>\n",
       "        </tr>\n",
       "        <tr>\n",
       "            <td>Mark Williams  </td> <td>277        </td> <td>3908160 </td> <td>127        </td> <td>22  </td> <td>CHO </td> <td>C       </td> <td>19   </td> <td>9.7     </td> <td>1.2    </td> <td>0.8   </td> <td>1.1   </td> <td>0.9      </td> <td>12.7  </td>\n",
       "        </tr>\n",
       "        <tr>\n",
       "            <td>RJ Barrett     </td> <td>61         </td> <td>23883929</td> <td>47         </td> <td>23  </td> <td>2TM </td> <td>SG      </td> <td>58   </td> <td>5.4     </td> <td>3.3    </td> <td>0.5   </td> <td>0.4   </td> <td>2.2      </td> <td>20.2  </td>\n",
       "        </tr>\n",
       "    </tbody>\n",
       "</table>"
      ],
      "text/plain": [
       "Player          | Salary Rank | Salary   | Player Rank | Age  | Team | Position | Games | Rebounds | Assists | Steals | Blocks | Turnovers | Points\n",
       "Tosan Evbuomwan | 554         | 295977   | 301         | 22   | DET  | SF       | 13    | 3.5      | 0.8     | 0.5    | 0.3    | 0.6       | 7\n",
       "De'Andre Hunter | 74          | 20089286 | 88          | 26   | ATL  | SF       | 57    | 3.9      | 1.5     | 0.7    | 0.3    | 1.5       | 15.6\n",
       "Jalen Williams  | 256         | 4558680  | 61          | 22   | OKC  | PF       | 71    | 4        | 4.5     | 1.1    | 0.6    | 1.7       | 19.1\n",
       "Mark Williams   | 277         | 3908160  | 127         | 22   | CHO  | C        | 19    | 9.7      | 1.2     | 0.8    | 1.1    | 0.9       | 12.7\n",
       "RJ Barrett      | 61          | 23883929 | 47          | 23   | 2TM  | SG       | 58    | 5.4      | 3.3     | 0.5    | 0.4    | 2.2       | 20.2"
      ]
     },
     "execution_count": 105,
     "metadata": {},
     "output_type": "execute_result"
    }
   ],
   "source": [
    "# Just run this cell\n",
    "\n",
    "full_data.sample(5)"
   ]
  },
  {
   "cell_type": "markdown",
   "id": "6d592da4",
   "metadata": {},
   "source": [
    "The optional argument `with_replacement=False` can be passed through `sample()` to specify that the sample should be drawn without replacement.\n",
    "\n",
    "Run the cell below to see an example call to `sample()` with a sample size of 5, without replacement."
   ]
  },
  {
   "cell_type": "code",
   "execution_count": 107,
   "id": "3b785452",
   "metadata": {},
   "outputs": [
    {
     "data": {
      "text/html": [
       "<table border=\"1\" class=\"dataframe\">\n",
       "    <thead>\n",
       "        <tr>\n",
       "            <th>Player</th> <th>Salary Rank</th> <th>Salary</th> <th>Player Rank</th> <th>Age</th> <th>Team</th> <th>Position</th> <th>Games</th> <th>Rebounds</th> <th>Assists</th> <th>Steals</th> <th>Blocks</th> <th>Turnovers</th> <th>Points</th>\n",
       "        </tr>\n",
       "    </thead>\n",
       "    <tbody>\n",
       "        <tr>\n",
       "            <td>Andre Drummond</td> <td>293        </td> <td>3360000</td> <td>217        </td> <td>30  </td> <td>CHI </td> <td>C       </td> <td>79   </td> <td>9       </td> <td>0.5    </td> <td>0.9   </td> <td>0.6   </td> <td>1        </td> <td>8.4   </td>\n",
       "        </tr>\n",
       "        <tr>\n",
       "            <td>Dru Smith     </td> <td>435        </td> <td>1801769</td> <td>383        </td> <td>26  </td> <td>MIA </td> <td>SG      </td> <td>9    </td> <td>1.6     </td> <td>1.6    </td> <td>1     </td> <td>0.3   </td> <td>0.6      </td> <td>4.3   </td>\n",
       "        </tr>\n",
       "        <tr>\n",
       "            <td>Ochai Agbaji  </td> <td>270        </td> <td>4114200</td> <td>304        </td> <td>23  </td> <td>TOR </td> <td>SG      </td> <td>27   </td> <td>3.3     </td> <td>1.3    </td> <td>0.7   </td> <td>0.6   </td> <td>1.1      </td> <td>6.7   </td>\n",
       "        </tr>\n",
       "        <tr>\n",
       "            <td>Josh Okogie   </td> <td>334        </td> <td>2815937</td> <td>359        </td> <td>25  </td> <td>PHO </td> <td>SG      </td> <td>60   </td> <td>2.6     </td> <td>1.1    </td> <td>0.8   </td> <td>0.4   </td> <td>0.6      </td> <td>4.6   </td>\n",
       "        </tr>\n",
       "        <tr>\n",
       "            <td>Caleb Houstan </td> <td>410        </td> <td>2000000</td> <td>381        </td> <td>21  </td> <td>ORL </td> <td>SF      </td> <td>59   </td> <td>1.4     </td> <td>0.5    </td> <td>0.3   </td> <td>0.1   </td> <td>0.3      </td> <td>4.3   </td>\n",
       "        </tr>\n",
       "    </tbody>\n",
       "</table>"
      ],
      "text/plain": [
       "Player         | Salary Rank | Salary  | Player Rank | Age  | Team | Position | Games | Rebounds | Assists | Steals | Blocks | Turnovers | Points\n",
       "Andre Drummond | 293         | 3360000 | 217         | 30   | CHI  | C        | 79    | 9        | 0.5     | 0.9    | 0.6    | 1         | 8.4\n",
       "Dru Smith      | 435         | 1801769 | 383         | 26   | MIA  | SG       | 9     | 1.6      | 1.6     | 1      | 0.3    | 0.6       | 4.3\n",
       "Ochai Agbaji   | 270         | 4114200 | 304         | 23   | TOR  | SG       | 27    | 3.3      | 1.3     | 0.7    | 0.6    | 1.1       | 6.7\n",
       "Josh Okogie    | 334         | 2815937 | 359         | 25   | PHO  | SG       | 60    | 2.6      | 1.1     | 0.8    | 0.4    | 0.6       | 4.6\n",
       "Caleb Houstan  | 410         | 2000000 | 381         | 21   | ORL  | SF       | 59    | 1.4      | 0.5     | 0.3    | 0.1    | 0.3       | 4.3"
      ]
     },
     "execution_count": 107,
     "metadata": {},
     "output_type": "execute_result"
    }
   ],
   "source": [
    "# Just run this cell\n",
    "\n",
    "full_data.sample(5, with_replacement=False)"
   ]
  },
  {
   "cell_type": "markdown",
   "id": "54c8de2b",
   "metadata": {},
   "source": [
    "---\n",
    "\n",
    "**Question 3.2** Produce a simple random sample **without** replacement of size **44** from `full_data`. Then, run your analysis on it again by using the `compute_statistics` function you defined above.  Run the cell a few times to see how the histograms and statistics change across different samples.\n",
    "\n",
    "- How much does the average age change across samples? \n",
    "- What about average salary?\n",
    "\n",
    "(FYI: srs = simple random sample, wor = without replacement)"
   ]
  },
  {
   "cell_type": "markdown",
   "id": "ccacd09f",
   "metadata": {},
   "source": [
    "_Type your answer here, replacing this text._"
   ]
  },
  {
   "cell_type": "markdown",
   "id": "6d264775",
   "metadata": {},
   "source": [
    "<!-- BEGIN QUESTION -->\n",
    "\n"
   ]
  },
  {
   "cell_type": "code",
   "execution_count": 109,
   "id": "05761388",
   "metadata": {
    "tags": []
   },
   "outputs": [
    {
     "data": {
      "text/plain": [
       "array([  2.58536585e+01,   1.02641908e+07])"
      ]
     },
     "execution_count": 109,
     "metadata": {},
     "output_type": "execute_result"
    }
   ],
   "source": [
    "my_small_srswor_data = full_data.sample(41, with_replacement=False)\n",
    "my_small_stats = compute_statistics(my_small_srswor_data)\n",
    "my_small_stats"
   ]
  },
  {
   "cell_type": "markdown",
   "id": "487819e3",
   "metadata": {},
   "source": [
    "<!-- END QUESTION -->\n",
    "\n",
    "<hr style=\"border: 5px solid #003262;\" />\n",
    "<hr style=\"border: 1px solid #fdb515;\" />\n",
    "\n",
    "## 4. More Random Sampling Practice\n",
    "\n",
    "More practice for random sampling using `np.random.choice`."
   ]
  },
  {
   "cell_type": "markdown",
   "id": "44d3055c",
   "metadata": {},
   "source": [
    "###  Simulations and For Loops (cont.)"
   ]
  },
  {
   "cell_type": "markdown",
   "id": "1deaf945",
   "metadata": {},
   "source": [
    "---\n",
    "\n",
    "**Question 4.1** We can use `np.random.choice` to simulate multiple trials.\n",
    "\n",
    "Bing and Mia decide to play a game together rolling a standard six-sided die. Their score on each roll is determined by the face that is rolled. They want to know what their **total score** would be if they rolled the die 1000 times. Write code that simulates their total score after 1000 rolls.\n",
    "\n",
    "*Hint:* First decide the possible values you can take in the experiment (point values in this case). Then use `np.random.choice` to simulate Bing and Mia's rolls. Finally, sum up the rolls to get the total score.\n"
   ]
  },
  {
   "cell_type": "code",
   "execution_count": 120,
   "id": "24e73c0e",
   "metadata": {
    "tags": []
   },
   "outputs": [
    {
     "data": {
      "text/plain": [
       "3521"
      ]
     },
     "execution_count": 120,
     "metadata": {},
     "output_type": "execute_result"
    }
   ],
   "source": [
    "possible_point_values = make_array(1, 2, 3, 4, 5, 6)\n",
    "num_tosses = 1000\n",
    "simulated_tosses = np.random.choice(possible_point_values, num_tosses)\n",
    "total_score = np.sum(simulated_tosses)\n",
    "total_score"
   ]
  },
  {
   "cell_type": "code",
   "execution_count": 122,
   "id": "280ec2bb",
   "metadata": {
    "deletable": false,
    "editable": false
   },
   "outputs": [
    {
     "data": {
      "text/html": [
       "<p><strong><pre style='display: inline;'>q41</pre></strong> passed! 🌟</p>"
      ],
      "text/plain": [
       "q41 results: All test cases passed!"
      ]
     },
     "execution_count": 122,
     "metadata": {},
     "output_type": "execute_result"
    }
   ],
   "source": [
    "grader.check(\"q41\")"
   ]
  },
  {
   "cell_type": "markdown",
   "id": "6d6e1fff",
   "metadata": {},
   "source": [
    "### Simple random sampling (cont.)"
   ]
  },
  {
   "cell_type": "markdown",
   "id": "c19c09b9",
   "metadata": {},
   "source": [
    "---\n",
    "\n",
    "**Question 4.2** As in the previous question, analyze several simple random samples of size 100 from `full_data` by using the `compute_statistics` function.  \n",
    "- Do the histogram shapes seem to change more or less across samples of 100 than across samples of size 44?  \n",
    "- Are the sample averages and histograms closer to their true values/shape for age or for salary?  What did you expect to see?"
   ]
  },
  {
   "cell_type": "markdown",
   "id": "a301256b",
   "metadata": {},
   "source": [
    "_Type your answer here, replacing this text._"
   ]
  },
  {
   "cell_type": "markdown",
   "id": "92c3fb5f",
   "metadata": {},
   "source": [
    "<!-- BEGIN QUESTION -->\n",
    "\n"
   ]
  },
  {
   "cell_type": "code",
   "execution_count": 124,
   "id": "316ed15b",
   "metadata": {
    "tags": []
   },
   "outputs": [
    {
     "data": {
      "text/plain": [
       "array([  2.56300000e+01,   8.71895184e+06])"
      ]
     },
     "execution_count": 124,
     "metadata": {},
     "output_type": "execute_result"
    }
   ],
   "source": [
    "my_large_srswor_data = full_data.sample(100, with_replacement=False)\n",
    "my_large_stats = compute_statistics(my_large_srswor_data)\n",
    "my_large_stats"
   ]
  },
  {
   "cell_type": "markdown",
   "id": "79998670",
   "metadata": {},
   "source": [
    "<!-- END QUESTION -->\n",
    "\n",
    "---\n",
    "\n",
    "<img src=\"winnie.png\" alt=\"Picture of an adorable dog named Winnie\" width=\"300\"/>\n",
    "\n",
    "<img src=\"winnie2.jpeg\" alt=\"Another picture of an adorable dog named Winnie\" width=\"300\"/>\n",
    "\n",
    "**Winnie** is very happy that you finished the lab! Here's two pictures as congratulations!"
   ]
  },
  {
   "attachments": {},
   "cell_type": "markdown",
   "id": "255bc488",
   "metadata": {},
   "source": [
    "\n",
    "---\n",
    "\n",
    "You're done with lab!\n",
    "\n",
    "**Important submission information:**\n",
    "- **Run all the tests** and verify that they all pass\n",
    "- **Save** from the **File** menu\n",
    "- **Run the final cell to generate the zip file**\n",
    "- **Click the link to download the zip file**\n",
    "- Then, go to [Gradescope](https://www.gradescope.com/courses/835871) and submit the zip file to the corresponding assignment. The name of this assignment is \"Lab XX Autograder\", where XX is the lab number -- 01, 02, 03, etc.\n",
    "\n",
    "- If you finish early in Regular Lab, **ask one of the staff members to check you off**.\n",
    "\n",
    "**It is your responsibility to make sure your work is saved before running the last cell.**\n"
   ]
  },
  {
   "cell_type": "markdown",
   "id": "e73e3972",
   "metadata": {
    "deletable": false,
    "editable": false
   },
   "source": [
    "## Submission\n",
    "\n",
    "Make sure you have run all cells in your notebook in order before running the cell below, so that all images/graphs appear in the output. The cell below will generate a zip file for you to submit. **Please save before exporting!**"
   ]
  },
  {
   "cell_type": "code",
   "execution_count": 126,
   "id": "83338d47",
   "metadata": {
    "deletable": false,
    "editable": false
   },
   "outputs": [
    {
     "name": "stdout",
     "output_type": "stream",
     "text": [
      "Running your submission against local test cases...\n",
      "\n",
      "\n",
      "Your submission received the following results when run against available test cases:\n",
      "\n",
      "    q11 results: All test cases passed!\n",
      "\n",
      "    q12 results: All test cases passed!\n",
      "\n",
      "    q13 results: All test cases passed!\n",
      "\n",
      "    q14 results: All test cases passed!\n",
      "\n",
      "    q15 results: All test cases passed!\n",
      "\n",
      "    q21 results: All test cases passed!\n",
      "\n",
      "    q22 results: All test cases passed!\n",
      "\n",
      "    q31 results: All test cases passed!\n",
      "\n",
      "    q41 results: All test cases passed!\n"
     ]
    },
    {
     "data": {
      "text/html": [
       "\n",
       "                    <p>\n",
       "                        Your submission has been exported. Click\n",
       "                        <a href=\"lab05_2025_05_06T10_53_17_219312.zip\" download=\"lab05_2025_05_06T10_53_17_219312.zip\" target=\"_blank\">here</a> to download\n",
       "                        the zip file.\n",
       "                    </p>\n",
       "                "
      ],
      "text/plain": [
       "<IPython.core.display.HTML object>"
      ]
     },
     "metadata": {},
     "output_type": "display_data"
    }
   ],
   "source": [
    "# Save your notebook first, then run this cell to export your submission.\n",
    "grader.export(pdf=False, run_tests=True)"
   ]
  },
  {
   "cell_type": "markdown",
   "id": "42111ecb",
   "metadata": {},
   "source": [
    " "
   ]
  }
 ],
 "metadata": {
  "kernelspec": {
   "display_name": "Python 3 (ipykernel)",
   "language": "python",
   "name": "python3"
  },
  "language_info": {
   "codemirror_mode": {
    "name": "ipython",
    "version": 3
   },
   "file_extension": ".py",
   "mimetype": "text/x-python",
   "name": "python",
   "nbconvert_exporter": "python",
   "pygments_lexer": "ipython3",
   "version": "3.12.7"
  },
  "otter": {
   "OK_FORMAT": true,
   "tests": {
    "q11": {
     "name": "q11",
     "points": null,
     "suites": [
      {
       "cases": [
        {
         "code": ">>> number_cheese == 3\nTrue",
         "hidden": false,
         "locked": false
        }
       ],
       "scored": true,
       "setup": "",
       "teardown": "",
       "type": "doctest"
      }
     ]
    },
    "q12": {
     "name": "q12",
     "points": null,
     "suites": [
      {
       "cases": [
        {
         "code": ">>> say_please == 'More please'\nTrue",
         "hidden": false,
         "locked": false
        }
       ],
       "scored": true,
       "setup": "",
       "teardown": "",
       "type": "doctest"
      }
     ]
    },
    "q13": {
     "name": "q13",
     "points": null,
     "suites": [
      {
       "cases": [
        {
         "code": ">>> nacho_reaction('salsa')\n'Spicy!'",
         "hidden": false,
         "locked": false
        },
        {
         "code": ">>> nacho_reaction('cheese')\n'Cheesy!'",
         "hidden": false,
         "locked": false
        },
        {
         "code": ">>> nacho_reaction('both')\n'Wow!'",
         "hidden": false,
         "locked": false
        },
        {
         "code": ">>> nacho_reaction('neither')\n'Meh.'",
         "hidden": false,
         "locked": false
        }
       ],
       "scored": true,
       "setup": "",
       "teardown": "",
       "type": "doctest"
      }
     ]
    },
    "q14": {
     "name": "q14",
     "points": null,
     "suites": [
      {
       "cases": [
        {
         "code": ">>> # One or more of the reaction results could be incorrect\n>>> np.count_nonzero(ten_nachos_reactions.column('Reactions') == make_array('Meh.', 'Cheesy!', 'Wow!', 'Wow!', 'Cheesy!', 'Spicy!', 'Wow!', 'Meh.', 'Cheesy!', 'Wow!')) == 10\nTrue",
         "hidden": false,
         "locked": false
        }
       ],
       "scored": true,
       "setup": "",
       "teardown": "",
       "type": "doctest"
      }
     ]
    },
    "q15": {
     "name": "q15",
     "points": null,
     "suites": [
      {
       "cases": [
        {
         "code": ">>> 2 < number_wow_reactions < 6\nTrue",
         "hidden": false,
         "locked": false
        },
        {
         "code": ">>> # Incorrect value for number_wow_reactions\n>>> number_wow_reactions == 4\nTrue",
         "hidden": false,
         "locked": false
        }
       ],
       "scored": true,
       "setup": "",
       "teardown": "",
       "type": "doctest"
      }
     ]
    },
    "q21": {
     "name": "q21",
     "points": null,
     "suites": [
      {
       "cases": [
        {
         "code": ">>> longer_than_five == 35453\nTrue",
         "hidden": false,
         "locked": false
        }
       ],
       "scored": true,
       "setup": "",
       "teardown": "",
       "type": "doctest"
      }
     ]
    },
    "q22": {
     "name": "q22",
     "points": null,
     "suites": [
      {
       "cases": [
        {
         "code": ">>> 8100 <= num_different <= 9100\nTrue",
         "hidden": false,
         "locked": false
        }
       ],
       "scored": true,
       "setup": "",
       "teardown": "",
       "type": "doctest"
      }
     ]
    },
    "q31": {
     "name": "q31",
     "points": null,
     "suites": [
      {
       "cases": [
        {
         "code": ">>> stats = compute_statistics(full_data)\n>>> plt.close()\n>>> plt.close()\n>>> round(float(stats[0]), 2) == 25.74\nTrue",
         "hidden": false,
         "locked": false
        },
        {
         "code": ">>> stats = compute_statistics(full_data)\n>>> plt.close()\n>>> plt.close()\n>>> round(float(stats[1]), 2) == 8450354.6\nTrue",
         "hidden": false,
         "locked": false
        }
       ],
       "scored": true,
       "setup": "",
       "teardown": "",
       "type": "doctest"
      }
     ]
    },
    "q41": {
     "name": "q41",
     "points": null,
     "suites": [
      {
       "cases": [
        {
         "code": ">>> 3000 <= total_score <= 4000\nTrue",
         "hidden": false,
         "locked": false
        }
       ],
       "scored": true,
       "setup": "",
       "teardown": "",
       "type": "doctest"
      }
     ]
    }
   }
  }
 },
 "nbformat": 4,
 "nbformat_minor": 5
}
